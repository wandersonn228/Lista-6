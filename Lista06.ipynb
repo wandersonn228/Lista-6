{
  "nbformat": 4,
  "nbformat_minor": 0,
  "metadata": {
    "colab": {
      "name": "Lista06.ipynb",
      "provenance": [],
      "collapsed_sections": [],
      "authorship_tag": "ABX9TyOmUCpxjDUK2+qhCIT0WL0O",
      "include_colab_link": true
    },
    "kernelspec": {
      "name": "python3",
      "display_name": "Python 3"
    }
  },
  "cells": [
    {
      "cell_type": "markdown",
      "metadata": {
        "id": "view-in-github",
        "colab_type": "text"
      },
      "source": [
        "<a href=\"https://colab.research.google.com/github/wandersonn228/Lista-6/blob/main/Lista06.ipynb\" target=\"_parent\"><img src=\"https://colab.research.google.com/assets/colab-badge.svg\" alt=\"Open In Colab\"/></a>"
      ]
    },
    {
      "cell_type": "code",
      "metadata": {
        "colab": {
          "base_uri": "https://localhost:8080/"
        },
        "id": "NFYBZkGjykFu",
        "outputId": "2ebb0c2a-6be3-4dbb-8336-a79f6341a66b"
      },
      "source": [
        "# Disciplina: Probabilidade e Estatística\n",
        "# Aluno: Wanderson Silva\n",
        "# Lista 6\n",
        "\n",
        "import pandas as pd\n",
        "\n",
        "# Questão número 1 -------------------------------------------------------------------------------------------------------\n",
        "a = pd.Series([60, 58, 73, 51, 54, 75, 48, 72, 75, 83, 62 ,52])\n",
        "b = pd.Series([80, 62, 70, 83, 62, 92, 79, 88, 54, 82, 64, 69])\n",
        "r = a.corr(b)\n",
        "print('Resposta questão nº 1: ' + str(r))\n",
        "\n",
        "\n",
        "# Questão número 2 -------------------------------------------------------------------------------------------------------\n",
        "# O que se pode dizer com base no valor deste coeficiente de correlação?\n",
        "# Resposta: é um R fraco. Não tem correlação entre idade e quantidade de páginas de um livro\n",
        "\n",
        "\n",
        "# Questão número 3 -------------------------------------------------------------------------------------------------------\n",
        "s = pd.Series([2, 3, 4, 5, 4, 6, 7, 8, 8, 10])\n",
        "c = pd.Series([48, 50, 56, 52, 43, 60, 62, 58, 64, 72])\n",
        "r = s.corr(c)\n",
        "print('Resposta questão nº 3: ' + str(r))\n",
        "# É um R forte. Tem correlação entre anos de serviço e número de clientes\n",
        "\n",
        "\n",
        "# Questão número 4 -------------------------------------------------------------------------------------------------------\n",
        "x = pd.Series([12, 16, 18, 20, 28, 30, 40, 48, 50, 54])\n",
        "y = pd.Series([7.2, 7.4, 7, 6.5, 6.6, 6.7, 6, 5.6, 6, 5.5])\n",
        "r = x.corr(y)\n",
        "print('Resposta questão nº 4: ' + str(r))\n",
        "\n",
        "\n",
        "# Questão número 5 -------------------------------------------------------------------------------------------------------\n",
        "df = pd.DataFrame({\"C1\":[10, 8, 13, 9, 11, 14, 6, 4, 12, 7, 5, 8.04, 6.95, 7.58, 8.81, 8.33, 9.96, 7.24, 4.26, 10.84, 4.82, 5.68], \n",
        "                   \"C2\":[10, 8, 13, 9, 11, 14, 6, 4, 12, 7, 5, 9.14, 8.14, 8.74, 8.77, 9.26, 8.1, 6.13, 3.1, 9.13, 7.26, 4.74],  \n",
        "                   \"C3\":[10, 8, 13, 9, 11, 14, 6, 4, 12, 7, 5, 7.46, 6.77, 12.74, 7.11, 7.81, 8.84, 6.08, 5.39, 8.15, 6.42, 5.73], \n",
        "                   \"C4\":[8, 8, 8, 8, 8, 8, 8, 19, 8, 8, 8, 6.58, 5.76, 7.71, 8.84, 8.47, 7.04, 5.25, 12.5, 5.56, 7.91, 6.89]}) \n",
        "\n",
        "print('Respostas questão nº 5 A: ')\n",
        "print('Médias dos conjuntos:')\n",
        "print(df.mean())\n",
        "print('Desvio dos conjuntos:')\n",
        "print(df.std())\n",
        "\n",
        "x1 = pd.Series([10, 8, 13, 9, 11, 14, 6, 4, 12, 7, 5])\n",
        "y1 = pd.Series([8.04, 6.95, 7.58, 8.81, 8.33, 9.96, 7.24, 4.26, 10.84, 4.82, 5.68])\n",
        "x2 = pd.Series([10, 8, 13, 9, 11, 14, 6, 4, 12, 7, 5])\n",
        "y2 = pd.Series([9.14, 8.14, 8.74, 8.77, 9.26, 8.1, 6.13, 3.1, 9.13, 7.26, 4.74])\n",
        "x3 = pd.Series([10, 8, 13, 9, 11, 14, 6, 4, 12, 7, 5])\n",
        "y3 = pd.Series([7.46, 6.77, 12.74, 7.11, 7.81, 8.84, 6.08, 5.39, 8.15, 6.42, 5.73])\n",
        "x4 = pd.Series([8, 8, 8, 8, 8, 8, 8, 19, 8, 8, 8])\n",
        "y4 = pd.Series([6.58, 5.76, 7.71, 8.84, 8.47, 7.04, 5.25, 12.5, 5.56, 7.91, 6.89])\n",
        "\n",
        "print('Respostas questão nº 5 B: ')\n",
        "print('Correlação 1: ' + str(x1.corr(y1)))\n",
        "print('Correlação 2: ' + str(x2.corr(y2)))\n",
        "print('Correlação 3: ' + str(x3.corr(y3)))\n",
        "print('Correlação 4: ' + str(x4.corr(y4)))\n",
        "\n",
        "\n",
        "# Questão número 4 -------------------------------------------------------------------------------------------------------\n",
        "p = pd.Series([100, 102, 105, 108, 112, 120])\n",
        "a = pd.Series([4, 5, 1, 3, 6, 2])\n",
        "e = pd.Series([1, 3, 2, 4, 5, 6])\n",
        "z = pd.Series([3, 1, 2, 6, 4, 5])\n",
        "\n",
        "print('Respostas questão nº 6: ')\n",
        "print('Para Alimentação: ' + str(p.corr(a)))\n",
        "print('Para Exercícios: ' + str(p.corr(e)))\n",
        "print('Para Rodízio: ' + str(p.corr(z)))\n",
        "\n",
        "# -------------------------------------------------------------------------------------------------------\n"
      ],
      "execution_count": null,
      "outputs": [
        {
          "output_type": "stream",
          "text": [
            "Resposta questão nº 1: 0.16914578109915523\n",
            "Resposta questão nº 3: 0.8767952099440146\n",
            "Resposta questão nº 4: -0.9404625287404668\n",
            "Respostas questão nº 5 A: \n",
            "Médias dos conjuntos:\n",
            "C1    8.250455\n",
            "C2    8.250455\n",
            "C3    8.250000\n",
            "C4    8.250455\n",
            "dtype: float64\n",
            "Desvio dos conjuntos:\n",
            "C1    2.791421\n",
            "C2    2.791452\n",
            "C3    2.791153\n",
            "C4    2.791078\n",
            "dtype: float64\n",
            "Respostas questão nº 5 B: \n",
            "Correlação 1: 0.81642051634484\n",
            "Correlação 2: 0.8162365060002428\n",
            "Correlação 3: 0.8162867394895984\n",
            "Correlação 4: 0.8165214368885028\n",
            "Respostas questão nº 6: \n",
            "Para Alimentação: -0.19682179383399384\n",
            "Para Exercícios: 0.9257914006265635\n",
            "Para Rodízio: 0.6342035579095358\n"
          ],
          "name": "stdout"
        }
      ]
    }
  ]
}